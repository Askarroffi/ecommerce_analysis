{
 "cells": [
  {
   "cell_type": "code",
   "execution_count": 3,
   "metadata": {},
   "outputs": [],
   "source": [
    "# import the library that will be use in the project\n",
    "import pandas as pd\n",
    "import duckdb as db\n",
    "import matplotlib.pyplot as plt\n",
    "import numpy as np\n",
    "import plotly.express as px"
   ]
  },
  {
   "cell_type": "code",
   "execution_count": 4,
   "metadata": {},
   "outputs": [
    {
     "data": {
      "text/html": [
       "<div>\n",
       "<style scoped>\n",
       "    .dataframe tbody tr th:only-of-type {\n",
       "        vertical-align: middle;\n",
       "    }\n",
       "\n",
       "    .dataframe tbody tr th {\n",
       "        vertical-align: top;\n",
       "    }\n",
       "\n",
       "    .dataframe thead th {\n",
       "        text-align: right;\n",
       "    }\n",
       "</style>\n",
       "<table border=\"1\" class=\"dataframe\">\n",
       "  <thead>\n",
       "    <tr style=\"text-align: right;\">\n",
       "      <th></th>\n",
       "      <th>Order_ID</th>\n",
       "      <th>Customer_ID</th>\n",
       "      <th>Product_ID</th>\n",
       "      <th>Product_Name</th>\n",
       "      <th>Category</th>\n",
       "      <th>Price</th>\n",
       "      <th>Quantity</th>\n",
       "      <th>Order_Date</th>\n",
       "      <th>Delivery_Date</th>\n",
       "      <th>Payment_Method</th>\n",
       "    </tr>\n",
       "  </thead>\n",
       "  <tbody>\n",
       "    <tr>\n",
       "      <th>0</th>\n",
       "      <td>48ca9641-6d4c-4f39-b2e9-bf2e64eb97d8</td>\n",
       "      <td>76c18b23-a7d5-4b66-adaa-7aa143af36be</td>\n",
       "      <td>e19cbae9-8203-46ab-a8c8-5933dd0078ba</td>\n",
       "      <td>in</td>\n",
       "      <td>recognize</td>\n",
       "      <td>164.29</td>\n",
       "      <td>6.0</td>\n",
       "      <td>2020-08-26</td>\n",
       "      <td>2020-08-26</td>\n",
       "      <td>Credit Card</td>\n",
       "    </tr>\n",
       "    <tr>\n",
       "      <th>1</th>\n",
       "      <td>5ece9c62-f8d7-40eb-9a02-4ea7de0f1c6a</td>\n",
       "      <td>180f5718-28ca-4a35-adea-b74b05da3b08</td>\n",
       "      <td>932a13e1-2c6f-4f64-b644-6e9ae6cef485</td>\n",
       "      <td>list</td>\n",
       "      <td>mission</td>\n",
       "      <td>614.45</td>\n",
       "      <td>9.0</td>\n",
       "      <td>NaN</td>\n",
       "      <td>NaN</td>\n",
       "      <td>PayPal</td>\n",
       "    </tr>\n",
       "    <tr>\n",
       "      <th>2</th>\n",
       "      <td>NaN</td>\n",
       "      <td>a48c729f-374a-4a46-ae22-65d691fdcca2</td>\n",
       "      <td>896de70f-ab14-4d12-a6e0-8c3cdddd8c74</td>\n",
       "      <td>society</td>\n",
       "      <td>NaN</td>\n",
       "      <td>377.48</td>\n",
       "      <td>1.0</td>\n",
       "      <td>2020-02-21</td>\n",
       "      <td>2020-02-24</td>\n",
       "      <td>Credit Card</td>\n",
       "    </tr>\n",
       "    <tr>\n",
       "      <th>3</th>\n",
       "      <td>NaN</td>\n",
       "      <td>6a8965d2-f002-49ab-bfa3-4412e029fb5e</td>\n",
       "      <td>19fa7a20-d5e4-410f-bd51-b31899fd200e</td>\n",
       "      <td>themselves</td>\n",
       "      <td>or</td>\n",
       "      <td>NaN</td>\n",
       "      <td>1.0</td>\n",
       "      <td>2022-04-09</td>\n",
       "      <td>2022-04-13</td>\n",
       "      <td>Cash</td>\n",
       "    </tr>\n",
       "    <tr>\n",
       "      <th>4</th>\n",
       "      <td>d7493946-0d19-4c0e-a037-a985061a6f4f</td>\n",
       "      <td>0e6831fc-a7a4-41b4-b861-41f747702832</td>\n",
       "      <td>4202bb8b-63c1-4b59-8228-96a1d6a6efe2</td>\n",
       "      <td>those</td>\n",
       "      <td>marriage</td>\n",
       "      <td>NaN</td>\n",
       "      <td>1.0</td>\n",
       "      <td>2021-02-12</td>\n",
       "      <td>2021-02-21</td>\n",
       "      <td>Cash</td>\n",
       "    </tr>\n",
       "  </tbody>\n",
       "</table>\n",
       "</div>"
      ],
      "text/plain": [
       "                               Order_ID                           Customer_ID  \\\n",
       "0  48ca9641-6d4c-4f39-b2e9-bf2e64eb97d8  76c18b23-a7d5-4b66-adaa-7aa143af36be   \n",
       "1  5ece9c62-f8d7-40eb-9a02-4ea7de0f1c6a  180f5718-28ca-4a35-adea-b74b05da3b08   \n",
       "2                                   NaN  a48c729f-374a-4a46-ae22-65d691fdcca2   \n",
       "3                                   NaN  6a8965d2-f002-49ab-bfa3-4412e029fb5e   \n",
       "4  d7493946-0d19-4c0e-a037-a985061a6f4f  0e6831fc-a7a4-41b4-b861-41f747702832   \n",
       "\n",
       "                             Product_ID Product_Name   Category   Price  \\\n",
       "0  e19cbae9-8203-46ab-a8c8-5933dd0078ba           in  recognize  164.29   \n",
       "1  932a13e1-2c6f-4f64-b644-6e9ae6cef485         list    mission  614.45   \n",
       "2  896de70f-ab14-4d12-a6e0-8c3cdddd8c74      society        NaN  377.48   \n",
       "3  19fa7a20-d5e4-410f-bd51-b31899fd200e   themselves         or     NaN   \n",
       "4  4202bb8b-63c1-4b59-8228-96a1d6a6efe2        those   marriage     NaN   \n",
       "\n",
       "   Quantity  Order_Date Delivery_Date Payment_Method  \n",
       "0       6.0  2020-08-26    2020-08-26    Credit Card  \n",
       "1       9.0         NaN           NaN         PayPal  \n",
       "2       1.0  2020-02-21    2020-02-24    Credit Card  \n",
       "3       1.0  2022-04-09    2022-04-13           Cash  \n",
       "4       1.0  2021-02-12    2021-02-21           Cash  "
      ]
     },
     "execution_count": 4,
     "metadata": {},
     "output_type": "execute_result"
    }
   ],
   "source": [
    "# read the csv file using pandas\n",
    "data = pd.read_csv('ecommerce_data.csv')\n",
    "dataframe = pd.DataFrame(data)\n",
    "dataframe.head()"
   ]
  },
  {
   "cell_type": "code",
   "execution_count": 5,
   "metadata": {},
   "outputs": [
    {
     "data": {
      "text/plain": [
       "[1000, 10]"
      ]
     },
     "execution_count": 5,
     "metadata": {},
     "output_type": "execute_result"
    }
   ],
   "source": [
    "[data.shape[0], data.shape[1]]"
   ]
  },
  {
   "cell_type": "code",
   "execution_count": 6,
   "metadata": {},
   "outputs": [],
   "source": [
    "# make a function for duckdb so that we can execute the query more effective\n",
    "def query(sql_query):\n",
    "    return db.sql(sql_query).df()"
   ]
  },
  {
   "cell_type": "markdown",
   "metadata": {},
   "source": [
    "### 1. Rata-rata harga produk yang terjual"
   ]
  },
  {
   "cell_type": "code",
   "execution_count": 7,
   "metadata": {},
   "outputs": [
    {
     "name": "stdout",
     "output_type": "stream",
     "text": [
      "Rata-rata harga produk yang terjual: 522.43\n"
     ]
    }
   ],
   "source": [
    "# drop the null value so that we can get more accurate result\n",
    "new_price = dataframe['Price'].dropna()\n",
    "print(f\"Rata-rata harga produk yang terjual: {new_price.mean():.2f}\")"
   ]
  },
  {
   "cell_type": "markdown",
   "metadata": {},
   "source": [
    "### 2. Total produk yang terjual dengan jumlah penjualan tertinggi"
   ]
  },
  {
   "cell_type": "code",
   "execution_count": 8,
   "metadata": {},
   "outputs": [
    {
     "data": {
      "text/html": [
       "<div>\n",
       "<style scoped>\n",
       "    .dataframe tbody tr th:only-of-type {\n",
       "        vertical-align: middle;\n",
       "    }\n",
       "\n",
       "    .dataframe tbody tr th {\n",
       "        vertical-align: top;\n",
       "    }\n",
       "\n",
       "    .dataframe thead th {\n",
       "        text-align: right;\n",
       "    }\n",
       "</style>\n",
       "<table border=\"1\" class=\"dataframe\">\n",
       "  <thead>\n",
       "    <tr style=\"text-align: right;\">\n",
       "      <th></th>\n",
       "      <th>Quantity</th>\n",
       "      <th>total_products</th>\n",
       "    </tr>\n",
       "  </thead>\n",
       "  <tbody>\n",
       "    <tr>\n",
       "      <th>0</th>\n",
       "      <td>10.0</td>\n",
       "      <td>79</td>\n",
       "    </tr>\n",
       "    <tr>\n",
       "      <th>1</th>\n",
       "      <td>9.0</td>\n",
       "      <td>98</td>\n",
       "    </tr>\n",
       "    <tr>\n",
       "      <th>2</th>\n",
       "      <td>8.0</td>\n",
       "      <td>64</td>\n",
       "    </tr>\n",
       "    <tr>\n",
       "      <th>3</th>\n",
       "      <td>7.0</td>\n",
       "      <td>81</td>\n",
       "    </tr>\n",
       "    <tr>\n",
       "      <th>4</th>\n",
       "      <td>6.0</td>\n",
       "      <td>74</td>\n",
       "    </tr>\n",
       "    <tr>\n",
       "      <th>5</th>\n",
       "      <td>5.0</td>\n",
       "      <td>85</td>\n",
       "    </tr>\n",
       "    <tr>\n",
       "      <th>6</th>\n",
       "      <td>4.0</td>\n",
       "      <td>82</td>\n",
       "    </tr>\n",
       "    <tr>\n",
       "      <th>7</th>\n",
       "      <td>3.0</td>\n",
       "      <td>86</td>\n",
       "    </tr>\n",
       "    <tr>\n",
       "      <th>8</th>\n",
       "      <td>2.0</td>\n",
       "      <td>85</td>\n",
       "    </tr>\n",
       "    <tr>\n",
       "      <th>9</th>\n",
       "      <td>1.0</td>\n",
       "      <td>91</td>\n",
       "    </tr>\n",
       "    <tr>\n",
       "      <th>10</th>\n",
       "      <td>NaN</td>\n",
       "      <td>77</td>\n",
       "    </tr>\n",
       "  </tbody>\n",
       "</table>\n",
       "</div>"
      ],
      "text/plain": [
       "    Quantity  total_products\n",
       "0       10.0              79\n",
       "1        9.0              98\n",
       "2        8.0              64\n",
       "3        7.0              81\n",
       "4        6.0              74\n",
       "5        5.0              85\n",
       "6        4.0              82\n",
       "7        3.0              86\n",
       "8        2.0              85\n",
       "9        1.0              91\n",
       "10       NaN              77"
      ]
     },
     "execution_count": 8,
     "metadata": {},
     "output_type": "execute_result"
    }
   ],
   "source": [
    "total_products = query(\n",
    "    \"\"\"\n",
    "    SELECT\n",
    "        Quantity,\n",
    "        COUNT(Product_ID) as total_products\n",
    "    FROM dataframe\n",
    "    GROUP BY 1\n",
    "    ORDER BY 1 DESC\n",
    "    \"\"\"\n",
    ")\n",
    "total_products"
   ]
  },
  {
   "cell_type": "markdown",
   "metadata": {},
   "source": [
    "Berdasarkan data tersebut, dapat terlihat bahwa total produk yang terjual dengan jumlah penjualan tertinggi adalah 79 produk"
   ]
  },
  {
   "cell_type": "markdown",
   "metadata": {},
   "source": [
    "### 3. Kategori produk yang memiliki rata-rata harga tertinggi"
   ]
  },
  {
   "cell_type": "code",
   "execution_count": 9,
   "metadata": {},
   "outputs": [
    {
     "data": {
      "text/html": [
       "<div>\n",
       "<style scoped>\n",
       "    .dataframe tbody tr th:only-of-type {\n",
       "        vertical-align: middle;\n",
       "    }\n",
       "\n",
       "    .dataframe tbody tr th {\n",
       "        vertical-align: top;\n",
       "    }\n",
       "\n",
       "    .dataframe thead th {\n",
       "        text-align: right;\n",
       "    }\n",
       "</style>\n",
       "<table border=\"1\" class=\"dataframe\">\n",
       "  <thead>\n",
       "    <tr style=\"text-align: right;\">\n",
       "      <th></th>\n",
       "      <th>Category</th>\n",
       "      <th>Price</th>\n",
       "    </tr>\n",
       "  </thead>\n",
       "  <tbody>\n",
       "    <tr>\n",
       "      <th>998</th>\n",
       "      <td>myself</td>\n",
       "      <td>999.34</td>\n",
       "    </tr>\n",
       "    <tr>\n",
       "      <th>904</th>\n",
       "      <td>require</td>\n",
       "      <td>998.62</td>\n",
       "    </tr>\n",
       "    <tr>\n",
       "      <th>403</th>\n",
       "      <td>move</td>\n",
       "      <td>998.56</td>\n",
       "    </tr>\n",
       "    <tr>\n",
       "      <th>140</th>\n",
       "      <td>eight</td>\n",
       "      <td>994.30</td>\n",
       "    </tr>\n",
       "    <tr>\n",
       "      <th>772</th>\n",
       "      <td>moment</td>\n",
       "      <td>992.76</td>\n",
       "    </tr>\n",
       "    <tr>\n",
       "      <th>...</th>\n",
       "      <td>...</td>\n",
       "      <td>...</td>\n",
       "    </tr>\n",
       "    <tr>\n",
       "      <th>114</th>\n",
       "      <td>describe</td>\n",
       "      <td>13.80</td>\n",
       "    </tr>\n",
       "    <tr>\n",
       "      <th>962</th>\n",
       "      <td>bar</td>\n",
       "      <td>12.61</td>\n",
       "    </tr>\n",
       "    <tr>\n",
       "      <th>256</th>\n",
       "      <td>move</td>\n",
       "      <td>11.71</td>\n",
       "    </tr>\n",
       "    <tr>\n",
       "      <th>755</th>\n",
       "      <td>future</td>\n",
       "      <td>11.05</td>\n",
       "    </tr>\n",
       "    <tr>\n",
       "      <th>743</th>\n",
       "      <td>sing</td>\n",
       "      <td>10.26</td>\n",
       "    </tr>\n",
       "  </tbody>\n",
       "</table>\n",
       "<p>790 rows × 2 columns</p>\n",
       "</div>"
      ],
      "text/plain": [
       "     Category   Price\n",
       "998    myself  999.34\n",
       "904   require  998.62\n",
       "403      move  998.56\n",
       "140     eight  994.30\n",
       "772    moment  992.76\n",
       "..        ...     ...\n",
       "114  describe   13.80\n",
       "962       bar   12.61\n",
       "256      move   11.71\n",
       "755    future   11.05\n",
       "743      sing   10.26\n",
       "\n",
       "[790 rows x 2 columns]"
      ]
     },
     "execution_count": 9,
     "metadata": {},
     "output_type": "execute_result"
    }
   ],
   "source": [
    "# select a specific column from the database and copy \n",
    "max_price = dataframe[['Category','Price']].copy()\n",
    "\n",
    "# drop the null value so that we can get the accurate result\n",
    "max_price.dropna(inplace=True)\n",
    "\n",
    "# sort the data from the max to the min\n",
    "max_price.sort_values(by='Price', ascending=False)"
   ]
  },
  {
   "cell_type": "markdown",
   "metadata": {},
   "source": [
    "Berdasarkan output yang dihasilkan dapat diketahui bahwa kategori produk yang memiliki rata-rata harga tertinggi yaitu myself dengan harga 999.34"
   ]
  },
  {
   "cell_type": "markdown",
   "metadata": {},
   "source": [
    "### 4. Tren penjualan dari bulan ke bulan ***(monthly sales)***"
   ]
  },
  {
   "cell_type": "code",
   "execution_count": 10,
   "metadata": {},
   "outputs": [
    {
     "data": {
      "text/html": [
       "<div>\n",
       "<style scoped>\n",
       "    .dataframe tbody tr th:only-of-type {\n",
       "        vertical-align: middle;\n",
       "    }\n",
       "\n",
       "    .dataframe tbody tr th {\n",
       "        vertical-align: top;\n",
       "    }\n",
       "\n",
       "    .dataframe thead th {\n",
       "        text-align: right;\n",
       "    }\n",
       "</style>\n",
       "<table border=\"1\" class=\"dataframe\">\n",
       "  <thead>\n",
       "    <tr style=\"text-align: right;\">\n",
       "      <th></th>\n",
       "      <th>Order_Date</th>\n",
       "      <th>Quantity</th>\n",
       "      <th>Price</th>\n",
       "    </tr>\n",
       "  </thead>\n",
       "  <tbody>\n",
       "    <tr>\n",
       "      <th>0</th>\n",
       "      <td>2020-08-26</td>\n",
       "      <td>6.0</td>\n",
       "      <td>164.29</td>\n",
       "    </tr>\n",
       "    <tr>\n",
       "      <th>2</th>\n",
       "      <td>2020-02-21</td>\n",
       "      <td>1.0</td>\n",
       "      <td>377.48</td>\n",
       "    </tr>\n",
       "    <tr>\n",
       "      <th>6</th>\n",
       "      <td>2021-11-12</td>\n",
       "      <td>2.0</td>\n",
       "      <td>881.79</td>\n",
       "    </tr>\n",
       "    <tr>\n",
       "      <th>8</th>\n",
       "      <td>2022-02-21</td>\n",
       "      <td>9.0</td>\n",
       "      <td>136.01</td>\n",
       "    </tr>\n",
       "    <tr>\n",
       "      <th>9</th>\n",
       "      <td>2021-10-03</td>\n",
       "      <td>7.0</td>\n",
       "      <td>962.10</td>\n",
       "    </tr>\n",
       "    <tr>\n",
       "      <th>...</th>\n",
       "      <td>...</td>\n",
       "      <td>...</td>\n",
       "      <td>...</td>\n",
       "    </tr>\n",
       "    <tr>\n",
       "      <th>995</th>\n",
       "      <td>2020-10-26</td>\n",
       "      <td>7.0</td>\n",
       "      <td>26.10</td>\n",
       "    </tr>\n",
       "    <tr>\n",
       "      <th>996</th>\n",
       "      <td>2021-05-06</td>\n",
       "      <td>3.0</td>\n",
       "      <td>661.73</td>\n",
       "    </tr>\n",
       "    <tr>\n",
       "      <th>997</th>\n",
       "      <td>2021-03-07</td>\n",
       "      <td>1.0</td>\n",
       "      <td>74.94</td>\n",
       "    </tr>\n",
       "    <tr>\n",
       "      <th>998</th>\n",
       "      <td>2020-06-08</td>\n",
       "      <td>1.0</td>\n",
       "      <td>999.34</td>\n",
       "    </tr>\n",
       "    <tr>\n",
       "      <th>999</th>\n",
       "      <td>2020-04-08</td>\n",
       "      <td>4.0</td>\n",
       "      <td>812.97</td>\n",
       "    </tr>\n",
       "  </tbody>\n",
       "</table>\n",
       "<p>720 rows × 3 columns</p>\n",
       "</div>"
      ],
      "text/plain": [
       "    Order_Date  Quantity   Price\n",
       "0   2020-08-26       6.0  164.29\n",
       "2   2020-02-21       1.0  377.48\n",
       "6   2021-11-12       2.0  881.79\n",
       "8   2022-02-21       9.0  136.01\n",
       "9   2021-10-03       7.0  962.10\n",
       "..         ...       ...     ...\n",
       "995 2020-10-26       7.0   26.10\n",
       "996 2021-05-06       3.0  661.73\n",
       "997 2021-03-07       1.0   74.94\n",
       "998 2020-06-08       1.0  999.34\n",
       "999 2020-04-08       4.0  812.97\n",
       "\n",
       "[720 rows x 3 columns]"
      ]
     },
     "execution_count": 10,
     "metadata": {},
     "output_type": "execute_result"
    }
   ],
   "source": [
    "# make a new data and convert to dataframe\n",
    "order_date = pd.DataFrame(dataframe[['Order_Date','Quantity','Price']])\n",
    "\n",
    "# change the data type to datetime\n",
    "order_date['Order_Date'] = pd.to_datetime(order_date['Order_Date'])\n",
    "\n",
    "# drop the null value\n",
    "order_date.dropna(inplace=True)\n",
    "order_date"
   ]
  },
  {
   "cell_type": "code",
   "execution_count": 11,
   "metadata": {},
   "outputs": [
    {
     "data": {
      "text/html": [
       "<div>\n",
       "<style scoped>\n",
       "    .dataframe tbody tr th:only-of-type {\n",
       "        vertical-align: middle;\n",
       "    }\n",
       "\n",
       "    .dataframe tbody tr th {\n",
       "        vertical-align: top;\n",
       "    }\n",
       "\n",
       "    .dataframe thead th {\n",
       "        text-align: right;\n",
       "    }\n",
       "</style>\n",
       "<table border=\"1\" class=\"dataframe\">\n",
       "  <thead>\n",
       "    <tr style=\"text-align: right;\">\n",
       "      <th></th>\n",
       "      <th>year_month</th>\n",
       "      <th>total_sales</th>\n",
       "      <th>previous_total_sales</th>\n",
       "      <th>total_sales_growth</th>\n",
       "    </tr>\n",
       "  </thead>\n",
       "  <tbody>\n",
       "    <tr>\n",
       "      <th>0</th>\n",
       "      <td>2020-01-01</td>\n",
       "      <td>52580.82</td>\n",
       "      <td>NaN</td>\n",
       "      <td>None</td>\n",
       "    </tr>\n",
       "    <tr>\n",
       "      <th>1</th>\n",
       "      <td>2020-02-01</td>\n",
       "      <td>26759.50</td>\n",
       "      <td>52580.82</td>\n",
       "      <td>-49.11%</td>\n",
       "    </tr>\n",
       "    <tr>\n",
       "      <th>2</th>\n",
       "      <td>2020-03-01</td>\n",
       "      <td>69833.80</td>\n",
       "      <td>26759.50</td>\n",
       "      <td>160.97%</td>\n",
       "    </tr>\n",
       "    <tr>\n",
       "      <th>3</th>\n",
       "      <td>2020-04-01</td>\n",
       "      <td>61643.96</td>\n",
       "      <td>69833.80</td>\n",
       "      <td>-11.73%</td>\n",
       "    </tr>\n",
       "    <tr>\n",
       "      <th>4</th>\n",
       "      <td>2020-05-01</td>\n",
       "      <td>28382.10</td>\n",
       "      <td>61643.96</td>\n",
       "      <td>-53.96%</td>\n",
       "    </tr>\n",
       "  </tbody>\n",
       "</table>\n",
       "</div>"
      ],
      "text/plain": [
       "  year_month  total_sales  previous_total_sales total_sales_growth\n",
       "0 2020-01-01     52580.82                   NaN               None\n",
       "1 2020-02-01     26759.50              52580.82            -49.11%\n",
       "2 2020-03-01     69833.80              26759.50            160.97%\n",
       "3 2020-04-01     61643.96              69833.80            -11.73%\n",
       "4 2020-05-01     28382.10              61643.96            -53.96%"
      ]
     },
     "execution_count": 11,
     "metadata": {},
     "output_type": "execute_result"
    }
   ],
   "source": [
    "# make query that take only the month in every year\n",
    "# and count the total sales using quantity and price\n",
    "monthly_sales = query(\n",
    "    \"\"\"\n",
    "    WITH SALES AS(\n",
    "        SELECT\n",
    "            DATE_TRUNC('month', Order_Date) as year_month,\n",
    "            SUM(Quantity * Price) as total_sales\n",
    "        FROM order_date\n",
    "        GROUP BY 1\n",
    "        ORDER BY 1,2\n",
    "    ),\n",
    "    PREVIOUS AS(\n",
    "        SELECT *,\n",
    "            LAG(total_sales, 1) OVER(ORDER BY year_month) as previous_total_sales\n",
    "        FROM SALES\n",
    "        ORDER BY year_month\n",
    "    ),\n",
    "    RESULT AS(\n",
    "        SELECT *,\n",
    "            CASE WHEN\n",
    "                previous_total_sales is not null THEN\n",
    "                CONCAT(ROUND((total_sales - previous_total_sales)/previous_total_sales * 100, 2),'%')\n",
    "                ELSE NULL END AS total_sales_growth\n",
    "        FROM PREVIOUS\n",
    "    )\n",
    "    SELECT * FROM RESULT\n",
    "    \"\"\"\n",
    ")\n",
    "monthly_sales.head()"
   ]
  },
  {
   "cell_type": "code",
   "execution_count": 12,
   "metadata": {},
   "outputs": [
    {
     "data": {
      "text/plain": [
       "Text(0, 0.5, 'Total Sales')"
      ]
     },
     "execution_count": 12,
     "metadata": {},
     "output_type": "execute_result"
    },
    {
     "data": {
      "image/png": "[encoded data removed]",
      "text/plain": [
       "<Figure size 1000x500 with 1 Axes>"
      ]
     },
     "metadata": {},
     "output_type": "display_data"
    }
   ],
   "source": [
    "# make a line graph so we can get the monthly sales result\n",
    "plt.figure(figsize=(10,5))\n",
    "plt.plot(monthly_sales['year_month'], monthly_sales['total_sales'], marker='o')\n",
    "plt.grid(True)\n",
    "plt.title('Monthly Sales')\n",
    "plt.xlabel('Year_Month')\n",
    "plt.ylabel('Total Sales')"
   ]
  },
  {
   "cell_type": "markdown",
   "metadata": {},
   "source": [
    "Dari hasil tersebut dapat diketahui bahwa terdapat fluktuasi yang cukup tinggi pada total penjualan setiap bulannya, terutama pada bulan-bulan awal penjulalan itu terjadi. Pada pertengahan tahun, terjadi penjualan yang cukup stabil pada beberapa bulan yang diikuti dengan fluktuasi sedang, hingga di tahun terakhir penjualan, terdapat fluktuasi yang cukup besar dan ditutup dengan total penjualan yang merosot tajam hingga menyentuh angka terendah dari keseluruhan data yang ada."
   ]
  },
  {
   "cell_type": "markdown",
   "metadata": {},
   "source": [
    "### 5. Mendeteksi pola penjualan satu minggu terakhir"
   ]
  },
  {
   "cell_type": "code",
   "execution_count": 13,
   "metadata": {},
   "outputs": [],
   "source": [
    "# make a new dataframe\n",
    "costumer_spend = dataframe[['Order_Date','Price','Quantity']].copy()\n",
    "\n",
    "# drop the null value\n",
    "costumer_spend.dropna(inplace=True)\n",
    "\n",
    "# change the data type to datetime\n",
    "costumer_spend['Order_Date'] = pd.to_datetime(costumer_spend['Order_Date'])"
   ]
  },
  {
   "cell_type": "code",
   "execution_count": 14,
   "metadata": {},
   "outputs": [
    {
     "data": {
      "text/html": [
       "<div>\n",
       "<style scoped>\n",
       "    .dataframe tbody tr th:only-of-type {\n",
       "        vertical-align: middle;\n",
       "    }\n",
       "\n",
       "    .dataframe tbody tr th {\n",
       "        vertical-align: top;\n",
       "    }\n",
       "\n",
       "    .dataframe thead th {\n",
       "        text-align: right;\n",
       "    }\n",
       "</style>\n",
       "<table border=\"1\" class=\"dataframe\">\n",
       "  <thead>\n",
       "    <tr style=\"text-align: right;\">\n",
       "      <th></th>\n",
       "      <th>Order_Date</th>\n",
       "      <th>Weekly_Sales</th>\n",
       "      <th>previous_weekly_sales</th>\n",
       "      <th>weekly_sales_growth</th>\n",
       "    </tr>\n",
       "  </thead>\n",
       "  <tbody>\n",
       "    <tr>\n",
       "      <th>0</th>\n",
       "      <td>2023-11-17</td>\n",
       "      <td>4140.81</td>\n",
       "      <td>NaN</td>\n",
       "      <td>None</td>\n",
       "    </tr>\n",
       "    <tr>\n",
       "      <th>1</th>\n",
       "      <td>2023-11-18</td>\n",
       "      <td>810.95</td>\n",
       "      <td>4140.81</td>\n",
       "      <td>-80.42%</td>\n",
       "    </tr>\n",
       "    <tr>\n",
       "      <th>2</th>\n",
       "      <td>2023-11-19</td>\n",
       "      <td>1009.24</td>\n",
       "      <td>810.95</td>\n",
       "      <td>24.45%</td>\n",
       "    </tr>\n",
       "    <tr>\n",
       "      <th>3</th>\n",
       "      <td>2023-11-21</td>\n",
       "      <td>6366.00</td>\n",
       "      <td>1009.24</td>\n",
       "      <td>530.77%</td>\n",
       "    </tr>\n",
       "    <tr>\n",
       "      <th>4</th>\n",
       "      <td>2023-11-23</td>\n",
       "      <td>3448.13</td>\n",
       "      <td>6366.00</td>\n",
       "      <td>-45.84%</td>\n",
       "    </tr>\n",
       "    <tr>\n",
       "      <th>5</th>\n",
       "      <td>2023-11-26</td>\n",
       "      <td>5735.73</td>\n",
       "      <td>3448.13</td>\n",
       "      <td>66.34%</td>\n",
       "    </tr>\n",
       "  </tbody>\n",
       "</table>\n",
       "</div>"
      ],
      "text/plain": [
       "  Order_Date  Weekly_Sales  previous_weekly_sales weekly_sales_growth\n",
       "0 2023-11-17       4140.81                    NaN                None\n",
       "1 2023-11-18        810.95                4140.81             -80.42%\n",
       "2 2023-11-19       1009.24                 810.95              24.45%\n",
       "3 2023-11-21       6366.00                1009.24             530.77%\n",
       "4 2023-11-23       3448.13                6366.00             -45.84%\n",
       "5 2023-11-26       5735.73                3448.13              66.34%"
      ]
     },
     "execution_count": 14,
     "metadata": {},
     "output_type": "execute_result"
    }
   ],
   "source": [
    "# make query so that we can get the weekly_sales result\n",
    "weekly_sales = query(\n",
    "    \"\"\"\n",
    "    WITH COUNT AS(\n",
    "        SELECT\n",
    "            Order_Date,\n",
    "            SUM(Price * Quantity) as Weekly_Sales\n",
    "        FROM costumer_spend WHERE Order_Date BETWEEN '2023-11-17' AND '2023-11-26'\n",
    "        GROUP BY 1\n",
    "        ORDER BY Order_Date DESC\n",
    "    ),\n",
    "    NEW AS(\n",
    "        SELECT *,\n",
    "            LAG(Weekly_Sales, 1) OVER(ORDER BY Order_Date) as previous_weekly_sales\n",
    "        FROM COUNT\n",
    "    ),\n",
    "    FINAL AS(\n",
    "        SELECT *,\n",
    "            CASE WHEN\n",
    "                previous_weekly_sales is not null THEN\n",
    "                CONCAT(ROUND((Weekly_Sales - previous_weekly_sales)/previous_weekly_sales * 100, 2),'%')\n",
    "                ELSE NULL END AS weekly_sales_growth\n",
    "        FROM NEW\n",
    "    )\n",
    "    SELECT * FROM FINAL\n",
    "    \"\"\"\n",
    ")\n",
    "weekly_sales"
   ]
  },
  {
   "cell_type": "code",
   "execution_count": 15,
   "metadata": {},
   "outputs": [
    {
     "data": {
      "image/png": "[encoded data removed]",
      "text/plain": [
       "<Figure size 1200x600 with 1 Axes>"
      ]
     },
     "metadata": {},
     "output_type": "display_data"
    }
   ],
   "source": [
    "# make a graph of latest weekly sales\n",
    "plt.figure(figsize=(12,6))\n",
    "plt.plot(weekly_sales['Order_Date'], weekly_sales['Weekly_Sales'], marker='o')\n",
    "plt.title('Weekly Sales in Latest Year')\n",
    "# plt.xticks(rotation=45)\n",
    "plt.xlabel('Order_Date')\n",
    "plt.ylabel('Total_Sales')\n",
    "plt.tight_layout()\n",
    "plt.grid(True)"
   ]
  },
  {
   "cell_type": "markdown",
   "metadata": {},
   "source": [
    "Berdasarkan grafik tersebut, dapat terlihat bahwa terdapat pola data yang cukup menarik pada hari-hari tertentu dalam minggu terakhir penjualan. Pada awalnya, penjualan mengalami penurunan tajam, tapi pada tanggal 21, terjadi lonjakan penjualan yang sangat signifikan hingga 5 kali lipat/500% dan menyentuh angka tertinggi dalam satu minggu terakhir. Dengan kenaikan yang sangat drastis tersebut, tentu dapat kita katakan bahwa pola penjualan tersebut cukup unik sehingga kedepannya kita dapat mencari tahu penyebabnya dengan harapan kita dapat mengimplementasikannya kembali di kemudian hari."
   ]
  },
  {
   "cell_type": "markdown",
   "metadata": {},
   "source": [
    "### 6. Top five customer total purchase distribution"
   ]
  },
  {
   "cell_type": "code",
   "execution_count": 16,
   "metadata": {},
   "outputs": [],
   "source": [
    "# select data that we need and drop the null value\n",
    "select_data = dataframe[['Order_Date','Customer_ID','Price','Quantity']].copy()\n",
    "select_data['Order_Date'] = pd.to_datetime(select_data['Order_Date'])\n",
    "select_data.dropna(inplace=True)"
   ]
  },
  {
   "cell_type": "code",
   "execution_count": 17,
   "metadata": {},
   "outputs": [
    {
     "data": {
      "text/html": [
       "<div>\n",
       "<style scoped>\n",
       "    .dataframe tbody tr th:only-of-type {\n",
       "        vertical-align: middle;\n",
       "    }\n",
       "\n",
       "    .dataframe tbody tr th {\n",
       "        vertical-align: top;\n",
       "    }\n",
       "\n",
       "    .dataframe thead th {\n",
       "        text-align: right;\n",
       "    }\n",
       "</style>\n",
       "<table border=\"1\" class=\"dataframe\">\n",
       "  <thead>\n",
       "    <tr style=\"text-align: right;\">\n",
       "      <th></th>\n",
       "      <th>Customer_ID</th>\n",
       "      <th>year</th>\n",
       "      <th>total_purchase</th>\n",
       "      <th>ranking</th>\n",
       "    </tr>\n",
       "  </thead>\n",
       "  <tbody>\n",
       "    <tr>\n",
       "      <th>0</th>\n",
       "      <td>6d388e4f-e0c1-4f59-ba32-d12914e5fd0b</td>\n",
       "      <td>2023</td>\n",
       "      <td>8905.77</td>\n",
       "      <td>1</td>\n",
       "    </tr>\n",
       "    <tr>\n",
       "      <th>1</th>\n",
       "      <td>775bc6a7-225f-4b34-bc6c-06d73106b528</td>\n",
       "      <td>2023</td>\n",
       "      <td>8243.20</td>\n",
       "      <td>2</td>\n",
       "    </tr>\n",
       "    <tr>\n",
       "      <th>2</th>\n",
       "      <td>11084415-6db2-4009-a191-592dbd3453ca</td>\n",
       "      <td>2023</td>\n",
       "      <td>8052.00</td>\n",
       "      <td>3</td>\n",
       "    </tr>\n",
       "    <tr>\n",
       "      <th>3</th>\n",
       "      <td>d47d1e9f-3138-4dd0-886b-12cb356cca9b</td>\n",
       "      <td>2023</td>\n",
       "      <td>8011.26</td>\n",
       "      <td>4</td>\n",
       "    </tr>\n",
       "    <tr>\n",
       "      <th>4</th>\n",
       "      <td>07219263-e3a9-458e-a026-0d3af4d9771a</td>\n",
       "      <td>2023</td>\n",
       "      <td>7988.96</td>\n",
       "      <td>5</td>\n",
       "    </tr>\n",
       "    <tr>\n",
       "      <th>5</th>\n",
       "      <td>52b42879-f424-483d-b02c-5bb48d2a5d6c</td>\n",
       "      <td>2022</td>\n",
       "      <td>9727.20</td>\n",
       "      <td>1</td>\n",
       "    </tr>\n",
       "    <tr>\n",
       "      <th>6</th>\n",
       "      <td>24cf60a8-4f50-4f7c-b990-aee8cf08e011</td>\n",
       "      <td>2022</td>\n",
       "      <td>8745.10</td>\n",
       "      <td>2</td>\n",
       "    </tr>\n",
       "    <tr>\n",
       "      <th>7</th>\n",
       "      <td>24cf5dba-30fc-469b-a0c6-15a6547f5aca</td>\n",
       "      <td>2022</td>\n",
       "      <td>8347.10</td>\n",
       "      <td>3</td>\n",
       "    </tr>\n",
       "    <tr>\n",
       "      <th>8</th>\n",
       "      <td>bd786429-cef2-4305-80bb-e3891b0c2dfa</td>\n",
       "      <td>2022</td>\n",
       "      <td>8103.51</td>\n",
       "      <td>4</td>\n",
       "    </tr>\n",
       "    <tr>\n",
       "      <th>9</th>\n",
       "      <td>640eaf71-bd1c-4233-983a-b57b33dc3de1</td>\n",
       "      <td>2022</td>\n",
       "      <td>7635.42</td>\n",
       "      <td>5</td>\n",
       "    </tr>\n",
       "    <tr>\n",
       "      <th>10</th>\n",
       "      <td>e201a336-b53d-4e95-a642-dc92e66202b1</td>\n",
       "      <td>2021</td>\n",
       "      <td>9229.60</td>\n",
       "      <td>1</td>\n",
       "    </tr>\n",
       "    <tr>\n",
       "      <th>11</th>\n",
       "      <td>c57e0ac2-cdf7-49f8-bd46-ddaeff677fae</td>\n",
       "      <td>2021</td>\n",
       "      <td>8744.22</td>\n",
       "      <td>2</td>\n",
       "    </tr>\n",
       "    <tr>\n",
       "      <th>12</th>\n",
       "      <td>ab3f73c5-a5c4-41f5-b473-49f41bada965</td>\n",
       "      <td>2021</td>\n",
       "      <td>8558.46</td>\n",
       "      <td>3</td>\n",
       "    </tr>\n",
       "    <tr>\n",
       "      <th>13</th>\n",
       "      <td>fd0615bb-f643-4833-bec7-103e45fc3ddc</td>\n",
       "      <td>2021</td>\n",
       "      <td>8495.10</td>\n",
       "      <td>4</td>\n",
       "    </tr>\n",
       "    <tr>\n",
       "      <th>14</th>\n",
       "      <td>a90eeeb3-8829-4123-a9f9-65bdfa241974</td>\n",
       "      <td>2021</td>\n",
       "      <td>8226.36</td>\n",
       "      <td>5</td>\n",
       "    </tr>\n",
       "    <tr>\n",
       "      <th>15</th>\n",
       "      <td>2669f9b4-481d-4132-b6cd-38d9867b0bf3</td>\n",
       "      <td>2020</td>\n",
       "      <td>1988.60</td>\n",
       "      <td>1</td>\n",
       "    </tr>\n",
       "    <tr>\n",
       "      <th>16</th>\n",
       "      <td>67b8efbf-f07a-4640-9dd1-fbd0773d02a2</td>\n",
       "      <td>2020</td>\n",
       "      <td>1974.96</td>\n",
       "      <td>2</td>\n",
       "    </tr>\n",
       "    <tr>\n",
       "      <th>17</th>\n",
       "      <td>cac81c45-d463-46b7-9f66-b06aec4e26e2</td>\n",
       "      <td>2020</td>\n",
       "      <td>1940.64</td>\n",
       "      <td>3</td>\n",
       "    </tr>\n",
       "    <tr>\n",
       "      <th>18</th>\n",
       "      <td>4581a62f-45ca-47ee-9377-30f2196e1003</td>\n",
       "      <td>2020</td>\n",
       "      <td>1907.71</td>\n",
       "      <td>4</td>\n",
       "    </tr>\n",
       "    <tr>\n",
       "      <th>19</th>\n",
       "      <td>351ddeb5-b555-4d5e-8143-bc7916b76028</td>\n",
       "      <td>2020</td>\n",
       "      <td>1905.60</td>\n",
       "      <td>5</td>\n",
       "    </tr>\n",
       "  </tbody>\n",
       "</table>\n",
       "</div>"
      ],
      "text/plain": [
       "                             Customer_ID  year  total_purchase  ranking\n",
       "0   6d388e4f-e0c1-4f59-ba32-d12914e5fd0b  2023         8905.77        1\n",
       "1   775bc6a7-225f-4b34-bc6c-06d73106b528  2023         8243.20        2\n",
       "2   11084415-6db2-4009-a191-592dbd3453ca  2023         8052.00        3\n",
       "3   d47d1e9f-3138-4dd0-886b-12cb356cca9b  2023         8011.26        4\n",
       "4   07219263-e3a9-458e-a026-0d3af4d9771a  2023         7988.96        5\n",
       "5   52b42879-f424-483d-b02c-5bb48d2a5d6c  2022         9727.20        1\n",
       "6   24cf60a8-4f50-4f7c-b990-aee8cf08e011  2022         8745.10        2\n",
       "7   24cf5dba-30fc-469b-a0c6-15a6547f5aca  2022         8347.10        3\n",
       "8   bd786429-cef2-4305-80bb-e3891b0c2dfa  2022         8103.51        4\n",
       "9   640eaf71-bd1c-4233-983a-b57b33dc3de1  2022         7635.42        5\n",
       "10  e201a336-b53d-4e95-a642-dc92e66202b1  2021         9229.60        1\n",
       "11  c57e0ac2-cdf7-49f8-bd46-ddaeff677fae  2021         8744.22        2\n",
       "12  ab3f73c5-a5c4-41f5-b473-49f41bada965  2021         8558.46        3\n",
       "13  fd0615bb-f643-4833-bec7-103e45fc3ddc  2021         8495.10        4\n",
       "14  a90eeeb3-8829-4123-a9f9-65bdfa241974  2021         8226.36        5\n",
       "15  2669f9b4-481d-4132-b6cd-38d9867b0bf3  2020         1988.60        1\n",
       "16  67b8efbf-f07a-4640-9dd1-fbd0773d02a2  2020         1974.96        2\n",
       "17  cac81c45-d463-46b7-9f66-b06aec4e26e2  2020         1940.64        3\n",
       "18  4581a62f-45ca-47ee-9377-30f2196e1003  2020         1907.71        4\n",
       "19  351ddeb5-b555-4d5e-8143-bc7916b76028  2020         1905.60        5"
      ]
     },
     "execution_count": 17,
     "metadata": {},
     "output_type": "execute_result"
    }
   ],
   "source": [
    "# make a query that count the total purchase\n",
    "customer_purchase = query(\n",
    "    \"\"\"\n",
    "    WITH TOTAL AS(\n",
    "        SELECT\n",
    "            Customer_ID,\n",
    "            EXTRACT(Year FROM Order_Date) as year,\n",
    "            SUM(Price * Quantity) as total_purchase\n",
    "        FROM select_data\n",
    "        GROUP BY 1,2\n",
    "        ORDER BY 3 DESC\n",
    "    ),\n",
    "    RANK AS(\n",
    "        SELECT *,\n",
    "            ROW_NUMBER() OVER(PARTITION BY year ORDER BY(year)) as ranking\n",
    "        FROM TOTAL\n",
    "        ORDER BY year DESC\n",
    "    )\n",
    "    SELECT * FROM RANK WHERE ranking <= 5\n",
    "    \"\"\"\n",
    ")\n",
    "customer_purchase"
   ]
  },
  {
   "cell_type": "markdown",
   "metadata": {},
   "source": [
    "Dari insight yang diperoleh dapat diketahui bahwa distribusi pembelian per pelanggan di setiap tahunnya dapat dikatakan mengalami distribusi yang normal karena jarak atau rentang antar nilai nya tidak terlalu jauh. Selain itu, karena jumlah customer yang cukup besar maka saya mengambil top 5 konsumen dengan total belanja tertinggi untuk melihat siapa saja konsumen tersebut yang kemudian nantinya insight ini dapat kita gunakan untuk memberikan suatu rekomendasi kepada para customer tersebut agar mereka dapat selalu loyal terhadap produk kita."
   ]
  },
  {
   "cell_type": "markdown",
   "metadata": {},
   "source": [
    "### 7. Mencari tahu berapa konsumen yang melakukan pembelian ulang ***(repeat order)***"
   ]
  },
  {
   "cell_type": "markdown",
   "metadata": {},
   "source": [
    "Berdasarkan hasil analisa di nomor sebelumnya, dapat diketahui bahwa tidak terdapat customer yang melakukan pembelian kedua dan seterusnya (repeat order) baik itu di tahun 2020, 2021, 2022, maupun 2023. Karena itulah dengan mengetahui top 5 customer tersebut, kita tentu dapat menggunakan data itu untuk melakukan pendekatan khusus seperti diskon, buy 1 get 1, dll kepada para customer yang melakukan pembelian terbesar dengan harapan pada tahun berikutnya mereka akan berbelanja kembali bahkan menjadi pelanggan yang loyal terhadap produk kita."
   ]
  },
  {
   "cell_type": "markdown",
   "metadata": {},
   "source": [
    "### 8. Metode Pembayaran yang paling sering digunakan"
   ]
  },
  {
   "cell_type": "code",
   "execution_count": 18,
   "metadata": {},
   "outputs": [
    {
     "name": "stdout",
     "output_type": "stream",
     "text": [
      "Metode pembayaran yang paling sering digunakan adalah cash dengan total 310 customer\n"
     ]
    }
   ],
   "source": [
    "payment_method = pd.DataFrame(dataframe['Payment_Method'].value_counts())\n",
    "print(f\"Metode pembayaran yang paling sering digunakan adalah cash dengan total {payment_method['count'].iloc[0]} customer\")"
   ]
  },
  {
   "cell_type": "markdown",
   "metadata": {},
   "source": [
    "### 9. Finding the correlation between payment method and customer total spending"
   ]
  },
  {
   "cell_type": "code",
   "execution_count": 19,
   "metadata": {},
   "outputs": [
    {
     "data": {
      "text/html": [
       "<div>\n",
       "<style scoped>\n",
       "    .dataframe tbody tr th:only-of-type {\n",
       "        vertical-align: middle;\n",
       "    }\n",
       "\n",
       "    .dataframe tbody tr th {\n",
       "        vertical-align: top;\n",
       "    }\n",
       "\n",
       "    .dataframe thead th {\n",
       "        text-align: right;\n",
       "    }\n",
       "</style>\n",
       "<table border=\"1\" class=\"dataframe\">\n",
       "  <thead>\n",
       "    <tr style=\"text-align: right;\">\n",
       "      <th></th>\n",
       "      <th>Payment_Method</th>\n",
       "      <th>total_spend</th>\n",
       "    </tr>\n",
       "  </thead>\n",
       "  <tbody>\n",
       "    <tr>\n",
       "      <th>0</th>\n",
       "      <td>Credit Card</td>\n",
       "      <td>753343.04</td>\n",
       "    </tr>\n",
       "    <tr>\n",
       "      <th>1</th>\n",
       "      <td>Cash</td>\n",
       "      <td>665528.44</td>\n",
       "    </tr>\n",
       "    <tr>\n",
       "      <th>2</th>\n",
       "      <td>PayPal</td>\n",
       "      <td>614619.74</td>\n",
       "    </tr>\n",
       "  </tbody>\n",
       "</table>\n",
       "</div>"
      ],
      "text/plain": [
       "  Payment_Method  total_spend\n",
       "0    Credit Card    753343.04\n",
       "1           Cash    665528.44\n",
       "2         PayPal    614619.74"
      ]
     },
     "execution_count": 19,
     "metadata": {},
     "output_type": "execute_result"
    }
   ],
   "source": [
    "# make a new dataset that contain column we need to analyze\n",
    "# and drop the null value\n",
    "corr = dataframe[['Payment_Method', 'Quantity','Price']].copy()\n",
    "corr.dropna(inplace=True)\n",
    "\n",
    "correlations = query(\n",
    "    \"\"\"\n",
    "    SELECT\n",
    "        Payment_Method,\n",
    "        SUM(Quantity * Price) as total_spend\n",
    "    FROM corr\n",
    "    GROUP BY 1\n",
    "    ORDER BY 2 DESC\n",
    "    \"\"\"\n",
    ")\n",
    "correlations"
   ]
  },
  {
   "cell_type": "code",
   "execution_count": 20,
   "metadata": {},
   "outputs": [
    {
     "data": {
      "text/plain": [
       "array([[ 1. , -0.5],\n",
       "       [-0.5,  1. ]])"
      ]
     },
     "execution_count": 20,
     "metadata": {},
     "output_type": "execute_result"
    }
   ],
   "source": [
    "# import sklearn library\n",
    "from sklearn.preprocessing import LabelEncoder\n",
    "\n",
    "# transform the payment method column from categorical to numerical data\n",
    "encoder = LabelEncoder()\n",
    "numerical_data = encoder.fit_transform(correlations['Payment_Method'])\n",
    "\n",
    "# make a variable to make it easier to use and change the array dimension using flatten \n",
    "x1 = numerical_data\n",
    "x2 = correlations['total_spend'].values.flatten()\n",
    "\n",
    "# rank the x2 values so that the correlation value can be more accurate\n",
    "ranking = np.argsort(x2)\n",
    "\n",
    "# finding the correlation between the two variable\n",
    "correlation_result = np.corrcoef(x1, ranking, rowvar=False)\n",
    "correlation_result"
   ]
  },
  {
   "cell_type": "markdown",
   "metadata": {},
   "source": [
    "Berdasarkan hasil tersebut, dapat diketahui bahwa terdapat korelasi sedang antara metode pembayaran dan total pembelian yang artinya keterkaitan antara keduanya tidak lemah tapi juga tidak kuat. Hal ini didasarkan oleh nilai korelasi sebesar 0,5 dimana jika nilai korelasi semakin mendekati 1, maka korelasi nya semakin kuat dan begitu pula sebaliknya. Tanda negatif menandakan bahwa semakin tinggi total pembelian maka semakin rendah nilai dari metode pembayaran (dalam bentuk numerical) yang digunakan dan begitu pula sebaliknya. Akan tetapi, perhitungan korelasi ini dapat dikatakan masih belum akurat. Hal ini disebabkan karena data pada kedua variabel terbilang sangat sedikit sehingga tidak mampu menjelaskan keterkaitan atau korelasi secara lebih detail dan mendalam."
   ]
  },
  {
   "cell_type": "markdown",
   "metadata": {},
   "source": [
    "### 10. Mencari presentase pesanan yang mengalami keterlamabatan"
   ]
  },
  {
   "cell_type": "code",
   "execution_count": 25,
   "metadata": {},
   "outputs": [
    {
     "name": "stdout",
     "output_type": "stream",
     "text": [
      "<class 'pandas.core.frame.DataFrame'>\n",
      "RangeIndex: 1000 entries, 0 to 999\n",
      "Data columns (total 2 columns):\n",
      " #   Column         Non-Null Count  Dtype         \n",
      "---  ------         --------------  -----         \n",
      " 0   Order_Date     908 non-null    datetime64[ns]\n",
      " 1   Delivery_Date  807 non-null    datetime64[ns]\n",
      "dtypes: datetime64[ns](2)\n",
      "memory usage: 15.8 KB\n"
     ]
    }
   ],
   "source": [
    "date = dataframe[['Order_Date','Delivery_Date']].copy()\n",
    "\n",
    "for x in date:\n",
    "    dataframe[x] = pd.to_datetime(dataframe[x])\n",
    "\n",
    "date.info()"
   ]
  },
  {
   "cell_type": "code",
   "execution_count": 26,
   "metadata": {},
   "outputs": [
    {
     "data": {
      "text/plain": [
       "Order_Date        92\n",
       "Delivery_Date    193\n",
       "dtype: int64"
      ]
     },
     "execution_count": 26,
     "metadata": {},
     "output_type": "execute_result"
    }
   ],
   "source": [
    "date.isnull().sum()"
   ]
  },
  {
   "cell_type": "code",
   "execution_count": 27,
   "metadata": {},
   "outputs": [
    {
     "name": "stdout",
     "output_type": "stream",
     "text": [
      "<class 'pandas.core.frame.DataFrame'>\n",
      "RangeIndex: 1000 entries, 0 to 999\n",
      "Data columns (total 2 columns):\n",
      " #   Column         Non-Null Count  Dtype         \n",
      "---  ------         --------------  -----         \n",
      " 0   Order_Date     908 non-null    datetime64[ns]\n",
      " 1   Delivery_Date  807 non-null    datetime64[ns]\n",
      "dtypes: datetime64[ns](2)\n",
      "memory usage: 15.8 KB\n"
     ]
    }
   ],
   "source": [
    "date.info()"
   ]
  },
  {
   "cell_type": "code",
   "execution_count": 28,
   "metadata": {},
   "outputs": [
    {
     "name": "stdout",
     "output_type": "stream",
     "text": [
      "Persentase pesanan yang mengalami keterlambatan pengiriman yaitu sebesar 49.3 persen\n"
     ]
    }
   ],
   "source": [
    "date['delay'] = date['Delivery_Date'] - date['Order_Date']\n",
    "new_date = date.dropna()\n",
    "delayed_orders = new_date[new_date['delay'] > pd.Timedelta(days=3)]\n",
    "precentage = (len(delayed_orders) / len(date)) * 100\n",
    "print(f\"Persentase pesanan yang mengalami keterlambatan pengiriman yaitu sebesar {precentage} persen\")"
   ]
  },
  {
   "cell_type": "markdown",
   "metadata": {},
   "source": [
    "Berdasarkan presentase pesanan tersebut, dapat kita simpulkan bahwa hampir setengah dari total pesanan mengalami keterlambatan. Hal ini tentu merupakan masalah yang cukup serius dan mampu memberikan efek yang buruk bagi keberlangsungan dari bisnis ini. Oleh karena itu, diperlukan analisa lebih dalam terkait apa sebenarnya yang menjadi faktor penyebab dari banyaknya keterlambatan yang terjadi dengan harapan kedepannya performa bisnis akan menjadi jauh lebih baik."
   ]
  },
  {
   "cell_type": "markdown",
   "metadata": {},
   "source": [
    "### 11. Apakah terdapat pola keterlambatan pengiriman berdasarkan kategori produk jika dibeli lebih dari dua kali?"
   ]
  },
  {
   "cell_type": "code",
   "execution_count": 29,
   "metadata": {},
   "outputs": [
    {
     "data": {
      "text/html": [
       "<div>\n",
       "<style scoped>\n",
       "    .dataframe tbody tr th:only-of-type {\n",
       "        vertical-align: middle;\n",
       "    }\n",
       "\n",
       "    .dataframe tbody tr th {\n",
       "        vertical-align: top;\n",
       "    }\n",
       "\n",
       "    .dataframe thead th {\n",
       "        text-align: right;\n",
       "    }\n",
       "</style>\n",
       "<table border=\"1\" class=\"dataframe\">\n",
       "  <thead>\n",
       "    <tr style=\"text-align: right;\">\n",
       "      <th></th>\n",
       "      <th>Category</th>\n",
       "      <th>Total_Order</th>\n",
       "    </tr>\n",
       "  </thead>\n",
       "  <tbody>\n",
       "    <tr>\n",
       "      <th>0</th>\n",
       "      <td>move</td>\n",
       "      <td>4</td>\n",
       "    </tr>\n",
       "    <tr>\n",
       "      <th>1</th>\n",
       "      <td>me</td>\n",
       "      <td>3</td>\n",
       "    </tr>\n",
       "    <tr>\n",
       "      <th>2</th>\n",
       "      <td>describe</td>\n",
       "      <td>3</td>\n",
       "    </tr>\n",
       "    <tr>\n",
       "      <th>3</th>\n",
       "      <td>dinner</td>\n",
       "      <td>3</td>\n",
       "    </tr>\n",
       "    <tr>\n",
       "      <th>4</th>\n",
       "      <td>stay</td>\n",
       "      <td>3</td>\n",
       "    </tr>\n",
       "    <tr>\n",
       "      <th>...</th>\n",
       "      <td>...</td>\n",
       "      <td>...</td>\n",
       "    </tr>\n",
       "    <tr>\n",
       "      <th>346</th>\n",
       "      <td>war</td>\n",
       "      <td>1</td>\n",
       "    </tr>\n",
       "    <tr>\n",
       "      <th>347</th>\n",
       "      <td>marriage</td>\n",
       "      <td>1</td>\n",
       "    </tr>\n",
       "    <tr>\n",
       "      <th>348</th>\n",
       "      <td>newspaper</td>\n",
       "      <td>1</td>\n",
       "    </tr>\n",
       "    <tr>\n",
       "      <th>349</th>\n",
       "      <td>worry</td>\n",
       "      <td>1</td>\n",
       "    </tr>\n",
       "    <tr>\n",
       "      <th>350</th>\n",
       "      <td>bed</td>\n",
       "      <td>1</td>\n",
       "    </tr>\n",
       "  </tbody>\n",
       "</table>\n",
       "<p>351 rows × 2 columns</p>\n",
       "</div>"
      ],
      "text/plain": [
       "      Category  Total_Order\n",
       "0         move            4\n",
       "1           me            3\n",
       "2     describe            3\n",
       "3       dinner            3\n",
       "4         stay            3\n",
       "..         ...          ...\n",
       "346        war            1\n",
       "347   marriage            1\n",
       "348  newspaper            1\n",
       "349      worry            1\n",
       "350        bed            1\n",
       "\n",
       "[351 rows x 2 columns]"
      ]
     },
     "execution_count": 29,
     "metadata": {},
     "output_type": "execute_result"
    }
   ],
   "source": [
    "# drop the null value\n",
    "data_value = dataframe[['Order_Date','Delivery_Date','Category']].dropna().copy()\n",
    "\n",
    "# finding the delays value\n",
    "data_value['delays'] = data_value['Delivery_Date'] - data_value['Order_Date']\n",
    "\n",
    "# filtering so the result focused on more than 3 days delays\n",
    "result = data_value[data_value['delays'] > pd.Timedelta(days=3)]\n",
    "\n",
    "# finding the total order base on category\n",
    "final = result['Category'].value_counts().reset_index()\n",
    "final.rename(columns={'count':'Total_Order'}, inplace=True)\n",
    "final"
   ]
  },
  {
   "cell_type": "code",
   "execution_count": 30,
   "metadata": {},
   "outputs": [
    {
     "data": {
      "text/html": [
       "<div>\n",
       "<style scoped>\n",
       "    .dataframe tbody tr th:only-of-type {\n",
       "        vertical-align: middle;\n",
       "    }\n",
       "\n",
       "    .dataframe tbody tr th {\n",
       "        vertical-align: top;\n",
       "    }\n",
       "\n",
       "    .dataframe thead th {\n",
       "        text-align: right;\n",
       "    }\n",
       "</style>\n",
       "<table border=\"1\" class=\"dataframe\">\n",
       "  <thead>\n",
       "    <tr style=\"text-align: right;\">\n",
       "      <th></th>\n",
       "      <th>Category</th>\n",
       "      <th>average_delays</th>\n",
       "    </tr>\n",
       "  </thead>\n",
       "  <tbody>\n",
       "    <tr>\n",
       "      <th>0</th>\n",
       "      <td>marriage</td>\n",
       "      <td>9.0</td>\n",
       "    </tr>\n",
       "    <tr>\n",
       "      <th>1</th>\n",
       "      <td>spend</td>\n",
       "      <td>9.0</td>\n",
       "    </tr>\n",
       "    <tr>\n",
       "      <th>2</th>\n",
       "      <td>federal</td>\n",
       "      <td>9.0</td>\n",
       "    </tr>\n",
       "    <tr>\n",
       "      <th>3</th>\n",
       "      <td>within</td>\n",
       "      <td>9.0</td>\n",
       "    </tr>\n",
       "    <tr>\n",
       "      <th>4</th>\n",
       "      <td>soldier</td>\n",
       "      <td>9.0</td>\n",
       "    </tr>\n",
       "    <tr>\n",
       "      <th>...</th>\n",
       "      <td>...</td>\n",
       "      <td>...</td>\n",
       "    </tr>\n",
       "    <tr>\n",
       "      <th>346</th>\n",
       "      <td>industry</td>\n",
       "      <td>4.0</td>\n",
       "    </tr>\n",
       "    <tr>\n",
       "      <th>347</th>\n",
       "      <td>senior</td>\n",
       "      <td>4.0</td>\n",
       "    </tr>\n",
       "    <tr>\n",
       "      <th>348</th>\n",
       "      <td>if</td>\n",
       "      <td>4.0</td>\n",
       "    </tr>\n",
       "    <tr>\n",
       "      <th>349</th>\n",
       "      <td>contain</td>\n",
       "      <td>4.0</td>\n",
       "    </tr>\n",
       "    <tr>\n",
       "      <th>350</th>\n",
       "      <td>bed</td>\n",
       "      <td>4.0</td>\n",
       "    </tr>\n",
       "  </tbody>\n",
       "</table>\n",
       "<p>351 rows × 2 columns</p>\n",
       "</div>"
      ],
      "text/plain": [
       "     Category  average_delays\n",
       "0    marriage             9.0\n",
       "1       spend             9.0\n",
       "2     federal             9.0\n",
       "3      within             9.0\n",
       "4     soldier             9.0\n",
       "..        ...             ...\n",
       "346  industry             4.0\n",
       "347    senior             4.0\n",
       "348        if             4.0\n",
       "349   contain             4.0\n",
       "350       bed             4.0\n",
       "\n",
       "[351 rows x 2 columns]"
      ]
     },
     "execution_count": 30,
     "metadata": {},
     "output_type": "execute_result"
    }
   ],
   "source": [
    "# find the average delays based on product category\n",
    "new_value = query(\n",
    "    \"\"\"\n",
    "    SELECT\n",
    "        Category,\n",
    "        AVG(EXTRACT(Day From delays)) as average_delays\n",
    "    FROM result\n",
    "    GROUP BY 1\n",
    "    ORDER BY 2 DESC\n",
    "    \"\"\"\n",
    ")\n",
    "new_value"
   ]
  },
  {
   "cell_type": "code",
   "execution_count": 31,
   "metadata": {},
   "outputs": [
    {
     "data": {
      "text/html": [
       "<div>\n",
       "<style scoped>\n",
       "    .dataframe tbody tr th:only-of-type {\n",
       "        vertical-align: middle;\n",
       "    }\n",
       "\n",
       "    .dataframe tbody tr th {\n",
       "        vertical-align: top;\n",
       "    }\n",
       "\n",
       "    .dataframe thead th {\n",
       "        text-align: right;\n",
       "    }\n",
       "</style>\n",
       "<table border=\"1\" class=\"dataframe\">\n",
       "  <thead>\n",
       "    <tr style=\"text-align: right;\">\n",
       "      <th></th>\n",
       "      <th>Category</th>\n",
       "      <th>Total_Order</th>\n",
       "      <th>average_delays</th>\n",
       "    </tr>\n",
       "  </thead>\n",
       "  <tbody>\n",
       "    <tr>\n",
       "      <th>0</th>\n",
       "      <td>move</td>\n",
       "      <td>4</td>\n",
       "      <td>7.0</td>\n",
       "    </tr>\n",
       "    <tr>\n",
       "      <th>1</th>\n",
       "      <td>stay</td>\n",
       "      <td>3</td>\n",
       "      <td>8.0</td>\n",
       "    </tr>\n",
       "    <tr>\n",
       "      <th>2</th>\n",
       "      <td>single</td>\n",
       "      <td>3</td>\n",
       "      <td>8.0</td>\n",
       "    </tr>\n",
       "    <tr>\n",
       "      <th>3</th>\n",
       "      <td>me</td>\n",
       "      <td>3</td>\n",
       "      <td>8.0</td>\n",
       "    </tr>\n",
       "    <tr>\n",
       "      <th>4</th>\n",
       "      <td>finish</td>\n",
       "      <td>3</td>\n",
       "      <td>7.0</td>\n",
       "    </tr>\n",
       "    <tr>\n",
       "      <th>5</th>\n",
       "      <td>describe</td>\n",
       "      <td>3</td>\n",
       "      <td>7.0</td>\n",
       "    </tr>\n",
       "    <tr>\n",
       "      <th>6</th>\n",
       "      <td>citizen</td>\n",
       "      <td>3</td>\n",
       "      <td>7.0</td>\n",
       "    </tr>\n",
       "    <tr>\n",
       "      <th>7</th>\n",
       "      <td>quality</td>\n",
       "      <td>3</td>\n",
       "      <td>6.0</td>\n",
       "    </tr>\n",
       "    <tr>\n",
       "      <th>8</th>\n",
       "      <td>dinner</td>\n",
       "      <td>3</td>\n",
       "      <td>5.0</td>\n",
       "    </tr>\n",
       "    <tr>\n",
       "      <th>9</th>\n",
       "      <td>every</td>\n",
       "      <td>3</td>\n",
       "      <td>5.0</td>\n",
       "    </tr>\n",
       "  </tbody>\n",
       "</table>\n",
       "</div>"
      ],
      "text/plain": [
       "   Category  Total_Order  average_delays\n",
       "0      move            4             7.0\n",
       "1      stay            3             8.0\n",
       "2    single            3             8.0\n",
       "3        me            3             8.0\n",
       "4    finish            3             7.0\n",
       "5  describe            3             7.0\n",
       "6   citizen            3             7.0\n",
       "7   quality            3             6.0\n",
       "8    dinner            3             5.0\n",
       "9     every            3             5.0"
      ]
     },
     "execution_count": 31,
     "metadata": {},
     "output_type": "execute_result"
    }
   ],
   "source": [
    "# combine average delays and total order column\n",
    "final_data = query(\n",
    "    \"\"\"\n",
    "    WITH COMBINE AS(\n",
    "        SELECT\n",
    "            final.Category, final.Total_Order,\n",
    "            new_value.average_delays\n",
    "        FROM final INNER JOIN new_value ON\n",
    "        final.Category = new_value.Category\n",
    "    ),\n",
    "    FINAL_RESULT AS(\n",
    "        SELECT\n",
    "            Category,\n",
    "            Total_Order,\n",
    "            ROUND(average_delays,0) as average_delays\n",
    "        FROM COMBINE WHERE Total_Order > 2\n",
    "        ORDER BY 2 DESC\n",
    "    )\n",
    "    SELECT * FROM FINAL_RESULT\n",
    "    \"\"\"\n",
    ")\n",
    "final_data"
   ]
  },
  {
   "cell_type": "code",
   "execution_count": 32,
   "metadata": {},
   "outputs": [
    {
     "data": {
      "image/png": "[encoded data removed]",
      "text/plain": [
       "<Figure size 1000x400 with 1 Axes>"
      ]
     },
     "metadata": {},
     "output_type": "display_data"
    }
   ],
   "source": [
    "# make a visualization using matplotlib\n",
    "plt.figure(figsize=(10,4))\n",
    "plt.title(\"Average Shipping Delays By Product Category\")\n",
    "plt.bar(final_data['Category'], final_data['average_delays'], color='brown')\n",
    "plt.xlabel(\"Product Category\")\n",
    "plt.ylabel(\"Average Delays\")\n",
    "\n",
    "for i, v in enumerate(final_data['average_delays']):\n",
    "    plt.text(i, v-0.5, v, ha='center', color='white', weight='bold')"
   ]
  },
  {
   "cell_type": "code",
   "execution_count": 33,
   "metadata": {},
   "outputs": [
    {
     "data": {
      "application/vnd.plotly.v1+json": {
       "config": {
        "plotlyServerURL": "https://plot.ly"
       },
       "data": [
        {
         "alignmentgroup": "True",
         "hovertemplate": "Category=%{x}<br>average_delays=%{y}<extra></extra>",
         "legendgroup": "",
         "marker": {
          "color": "#636efa",
          "pattern": {
           "shape": ""
          }
         },
         "name": "",
         "offsetgroup": "",
         "orientation": "v",
         "showlegend": false,
         "textposition": "auto",
         "type": "bar",
         "x": [
          "move",
          "stay",
          "single",
          "me",
          "finish",
          "describe",
          "citizen",
          "quality",
          "dinner",
          "every"
         ],
         "xaxis": "x",
         "y": [
          7,
          8,
          8,
          8,
          7,
          7,
          7,
          6,
          5,
          5
         ],
         "yaxis": "y"
        }
       ],
       "layout": {
        "barmode": "relative",
        "legend": {
         "tracegroupgap": 0
        },
        "template": {
         "data": {
          "bar": [
           {
            "error_x": {
             "color": "#2a3f5f"
            },
            "error_y": {
             "color": "#2a3f5f"
            },
            "marker": {
             "line": {
              "color": "#E5ECF6",
              "width": 0.5
             },
             "pattern": {
              "fillmode": "overlay",
              "size": 10,
              "solidity": 0.2
             }
            },
            "type": "bar"
           }
          ],
          "barpolar": [
           {
            "marker": {
             "line": {
              "color": "#E5ECF6",
              "width": 0.5
             },
             "pattern": {
              "fillmode": "overlay",
              "size": 10,
              "solidity": 0.2
             }
            },
            "type": "barpolar"
           }
          ],
          "carpet": [
           {
            "aaxis": {
             "endlinecolor": "#2a3f5f",
             "gridcolor": "white",
             "linecolor": "white",
             "minorgridcolor": "white",
             "startlinecolor": "#2a3f5f"
            },
            "baxis": {
             "endlinecolor": "#2a3f5f",
             "gridcolor": "white",
             "linecolor": "white",
             "minorgridcolor": "white",
             "startlinecolor": "#2a3f5f"
            },
            "type": "carpet"
           }
          ],
          "choropleth": [
           {
            "colorbar": {
             "outlinewidth": 0,
             "ticks": ""
            },
            "type": "choropleth"
           }
          ],
          "contour": [
           {
            "colorbar": {
             "outlinewidth": 0,
             "ticks": ""
            },
            "colorscale": [
             [
              0,
              "#0d0887"
             ],
             [
              0.1111111111111111,
              "#46039f"
             ],
             [
              0.2222222222222222,
              "#7201a8"
             ],
             [
              0.3333333333333333,
              "#9c179e"
             ],
             [
              0.4444444444444444,
              "#bd3786"
             ],
             [
              0.5555555555555556,
              "#d8576b"
             ],
             [
              0.6666666666666666,
              "#ed7953"
             ],
             [
              0.7777777777777778,
              "#fb9f3a"
             ],
             [
              0.8888888888888888,
              "#fdca26"
             ],
             [
              1,
              "#f0f921"
             ]
            ],
            "type": "contour"
           }
          ],
          "contourcarpet": [
           {
            "colorbar": {
             "outlinewidth": 0,
             "ticks": ""
            },
            "type": "contourcarpet"
           }
          ],
          "heatmap": [
           {
            "colorbar": {
             "outlinewidth": 0,
             "ticks": ""
            },
            "colorscale": [
             [
              0,
              "#0d0887"
             ],
             [
              0.1111111111111111,
              "#46039f"
             ],
             [
              0.2222222222222222,
              "#7201a8"
             ],
             [
              0.3333333333333333,
              "#9c179e"
             ],
             [
              0.4444444444444444,
              "#bd3786"
             ],
             [
              0.5555555555555556,
              "#d8576b"
             ],
             [
              0.6666666666666666,
              "#ed7953"
             ],
             [
              0.7777777777777778,
              "#fb9f3a"
             ],
             [
              0.8888888888888888,
              "#fdca26"
             ],
             [
              1,
              "#f0f921"
             ]
            ],
            "type": "heatmap"
           }
          ],
          "heatmapgl": [
           {
            "colorbar": {
             "outlinewidth": 0,
             "ticks": ""
            },
            "colorscale": [
             [
              0,
              "#0d0887"
             ],
             [
              0.1111111111111111,
              "#46039f"
             ],
             [
              0.2222222222222222,
              "#7201a8"
             ],
             [
              0.3333333333333333,
              "#9c179e"
             ],
             [
              0.4444444444444444,
              "#bd3786"
             ],
             [
              0.5555555555555556,
              "#d8576b"
             ],
             [
              0.6666666666666666,
              "#ed7953"
             ],
             [
              0.7777777777777778,
              "#fb9f3a"
             ],
             [
              0.8888888888888888,
              "#fdca26"
             ],
             [
              1,
              "#f0f921"
             ]
            ],
            "type": "heatmapgl"
           }
          ],
          "histogram": [
           {
            "marker": {
             "pattern": {
              "fillmode": "overlay",
              "size": 10,
              "solidity": 0.2
             }
            },
            "type": "histogram"
           }
          ],
          "histogram2d": [
           {
            "colorbar": {
             "outlinewidth": 0,
             "ticks": ""
            },
            "colorscale": [
             [
              0,
              "#0d0887"
             ],
             [
              0.1111111111111111,
              "#46039f"
             ],
             [
              0.2222222222222222,
              "#7201a8"
             ],
             [
              0.3333333333333333,
              "#9c179e"
             ],
             [
              0.4444444444444444,
              "#bd3786"
             ],
             [
              0.5555555555555556,
              "#d8576b"
             ],
             [
              0.6666666666666666,
              "#ed7953"
             ],
             [
              0.7777777777777778,
              "#fb9f3a"
             ],
             [
              0.8888888888888888,
              "#fdca26"
             ],
             [
              1,
              "#f0f921"
             ]
            ],
            "type": "histogram2d"
           }
          ],
          "histogram2dcontour": [
           {
            "colorbar": {
             "outlinewidth": 0,
             "ticks": ""
            },
            "colorscale": [
             [
              0,
              "#0d0887"
             ],
             [
              0.1111111111111111,
              "#46039f"
             ],
             [
              0.2222222222222222,
              "#7201a8"
             ],
             [
              0.3333333333333333,
              "#9c179e"
             ],
             [
              0.4444444444444444,
              "#bd3786"
             ],
             [
              0.5555555555555556,
              "#d8576b"
             ],
             [
              0.6666666666666666,
              "#ed7953"
             ],
             [
              0.7777777777777778,
              "#fb9f3a"
             ],
             [
              0.8888888888888888,
              "#fdca26"
             ],
             [
              1,
              "#f0f921"
             ]
            ],
            "type": "histogram2dcontour"
           }
          ],
          "mesh3d": [
           {
            "colorbar": {
             "outlinewidth": 0,
             "ticks": ""
            },
            "type": "mesh3d"
           }
          ],
          "parcoords": [
           {
            "line": {
             "colorbar": {
              "outlinewidth": 0,
              "ticks": ""
             }
            },
            "type": "parcoords"
           }
          ],
          "pie": [
           {
            "automargin": true,
            "type": "pie"
           }
          ],
          "scatter": [
           {
            "fillpattern": {
             "fillmode": "overlay",
             "size": 10,
             "solidity": 0.2
            },
            "type": "scatter"
           }
          ],
          "scatter3d": [
           {
            "line": {
             "colorbar": {
              "outlinewidth": 0,
              "ticks": ""
             }
            },
            "marker": {
             "colorbar": {
              "outlinewidth": 0,
              "ticks": ""
             }
            },
            "type": "scatter3d"
           }
          ],
          "scattercarpet": [
           {
            "marker": {
             "colorbar": {
              "outlinewidth": 0,
              "ticks": ""
             }
            },
            "type": "scattercarpet"
           }
          ],
          "scattergeo": [
           {
            "marker": {
             "colorbar": {
              "outlinewidth": 0,
              "ticks": ""
             }
            },
            "type": "scattergeo"
           }
          ],
          "scattergl": [
           {
            "marker": {
             "colorbar": {
              "outlinewidth": 0,
              "ticks": ""
             }
            },
            "type": "scattergl"
           }
          ],
          "scattermapbox": [
           {
            "marker": {
             "colorbar": {
              "outlinewidth": 0,
              "ticks": ""
             }
            },
            "type": "scattermapbox"
           }
          ],
          "scatterpolar": [
           {
            "marker": {
             "colorbar": {
              "outlinewidth": 0,
              "ticks": ""
             }
            },
            "type": "scatterpolar"
           }
          ],
          "scatterpolargl": [
           {
            "marker": {
             "colorbar": {
              "outlinewidth": 0,
              "ticks": ""
             }
            },
            "type": "scatterpolargl"
           }
          ],
          "scatterternary": [
           {
            "marker": {
             "colorbar": {
              "outlinewidth": 0,
              "ticks": ""
             }
            },
            "type": "scatterternary"
           }
          ],
          "surface": [
           {
            "colorbar": {
             "outlinewidth": 0,
             "ticks": ""
            },
            "colorscale": [
             [
              0,
              "#0d0887"
             ],
             [
              0.1111111111111111,
              "#46039f"
             ],
             [
              0.2222222222222222,
              "#7201a8"
             ],
             [
              0.3333333333333333,
              "#9c179e"
             ],
             [
              0.4444444444444444,
              "#bd3786"
             ],
             [
              0.5555555555555556,
              "#d8576b"
             ],
             [
              0.6666666666666666,
              "#ed7953"
             ],
             [
              0.7777777777777778,
              "#fb9f3a"
             ],
             [
              0.8888888888888888,
              "#fdca26"
             ],
             [
              1,
              "#f0f921"
             ]
            ],
            "type": "surface"
           }
          ],
          "table": [
           {
            "cells": {
             "fill": {
              "color": "#EBF0F8"
             },
             "line": {
              "color": "white"
             }
            },
            "header": {
             "fill": {
              "color": "#C8D4E3"
             },
             "line": {
              "color": "white"
             }
            },
            "type": "table"
           }
          ]
         },
         "layout": {
          "annotationdefaults": {
           "arrowcolor": "#2a3f5f",
           "arrowhead": 0,
           "arrowwidth": 1
          },
          "autotypenumbers": "strict",
          "coloraxis": {
           "colorbar": {
            "outlinewidth": 0,
            "ticks": ""
           }
          },
          "colorscale": {
           "diverging": [
            [
             0,
             "#8e0152"
            ],
            [
             0.1,
             "#c51b7d"
            ],
            [
             0.2,
             "#de77ae"
            ],
            [
             0.3,
             "#f1b6da"
            ],
            [
             0.4,
             "#fde0ef"
            ],
            [
             0.5,
             "#f7f7f7"
            ],
            [
             0.6,
             "#e6f5d0"
            ],
            [
             0.7,
             "#b8e186"
            ],
            [
             0.8,
             "#7fbc41"
            ],
            [
             0.9,
             "#4d9221"
            ],
            [
             1,
             "#276419"
            ]
           ],
           "sequential": [
            [
             0,
             "#0d0887"
            ],
            [
             0.1111111111111111,
             "#46039f"
            ],
            [
             0.2222222222222222,
             "#7201a8"
            ],
            [
             0.3333333333333333,
             "#9c179e"
            ],
            [
             0.4444444444444444,
             "#bd3786"
            ],
            [
             0.5555555555555556,
             "#d8576b"
            ],
            [
             0.6666666666666666,
             "#ed7953"
            ],
            [
             0.7777777777777778,
             "#fb9f3a"
            ],
            [
             0.8888888888888888,
             "#fdca26"
            ],
            [
             1,
             "#f0f921"
            ]
           ],
           "sequentialminus": [
            [
             0,
             "#0d0887"
            ],
            [
             0.1111111111111111,
             "#46039f"
            ],
            [
             0.2222222222222222,
             "#7201a8"
            ],
            [
             0.3333333333333333,
             "#9c179e"
            ],
            [
             0.4444444444444444,
             "#bd3786"
            ],
            [
             0.5555555555555556,
             "#d8576b"
            ],
            [
             0.6666666666666666,
             "#ed7953"
            ],
            [
             0.7777777777777778,
             "#fb9f3a"
            ],
            [
             0.8888888888888888,
             "#fdca26"
            ],
            [
             1,
             "#f0f921"
            ]
           ]
          },
          "colorway": [
           "#636efa",
           "#EF553B",
           "#00cc96",
           "#ab63fa",
           "#FFA15A",
           "#19d3f3",
           "#FF6692",
           "#B6E880",
           "#FF97FF",
           "#FECB52"
          ],
          "font": {
           "color": "#2a3f5f"
          },
          "geo": {
           "bgcolor": "white",
           "lakecolor": "white",
           "landcolor": "#E5ECF6",
           "showlakes": true,
           "showland": true,
           "subunitcolor": "white"
          },
          "hoverlabel": {
           "align": "left"
          },
          "hovermode": "closest",
          "mapbox": {
           "style": "light"
          },
          "paper_bgcolor": "white",
          "plot_bgcolor": "#E5ECF6",
          "polar": {
           "angularaxis": {
            "gridcolor": "white",
            "linecolor": "white",
            "ticks": ""
           },
           "bgcolor": "#E5ECF6",
           "radialaxis": {
            "gridcolor": "white",
            "linecolor": "white",
            "ticks": ""
           }
          },
          "scene": {
           "xaxis": {
            "backgroundcolor": "#E5ECF6",
            "gridcolor": "white",
            "gridwidth": 2,
            "linecolor": "white",
            "showbackground": true,
            "ticks": "",
            "zerolinecolor": "white"
           },
           "yaxis": {
            "backgroundcolor": "#E5ECF6",
            "gridcolor": "white",
            "gridwidth": 2,
            "linecolor": "white",
            "showbackground": true,
            "ticks": "",
            "zerolinecolor": "white"
           },
           "zaxis": {
            "backgroundcolor": "#E5ECF6",
            "gridcolor": "white",
            "gridwidth": 2,
            "linecolor": "white",
            "showbackground": true,
            "ticks": "",
            "zerolinecolor": "white"
           }
          },
          "shapedefaults": {
           "line": {
            "color": "#2a3f5f"
           }
          },
          "ternary": {
           "aaxis": {
            "gridcolor": "white",
            "linecolor": "white",
            "ticks": ""
           },
           "baxis": {
            "gridcolor": "white",
            "linecolor": "white",
            "ticks": ""
           },
           "bgcolor": "#E5ECF6",
           "caxis": {
            "gridcolor": "white",
            "linecolor": "white",
            "ticks": ""
           }
          },
          "title": {
           "x": 0.05
          },
          "xaxis": {
           "automargin": true,
           "gridcolor": "white",
           "linecolor": "white",
           "ticks": "",
           "title": {
            "standoff": 15
           },
           "zerolinecolor": "white",
           "zerolinewidth": 2
          },
          "yaxis": {
           "automargin": true,
           "gridcolor": "white",
           "linecolor": "white",
           "ticks": "",
           "title": {
            "standoff": 15
           },
           "zerolinecolor": "white",
           "zerolinewidth": 2
          }
         }
        },
        "title": {
         "text": "Average Shipping Delays by Product Category"
        },
        "xaxis": {
         "anchor": "y",
         "domain": [
          0,
          1
         ],
         "title": {
          "text": "Category"
         }
        },
        "yaxis": {
         "anchor": "x",
         "domain": [
          0,
          1
         ],
         "title": {
          "text": "Average Delay"
         }
        }
       }
      }
     },
     "metadata": {},
     "output_type": "display_data"
    }
   ],
   "source": [
    "# Plotting with Plotly\n",
    "fig = px.bar(final_data, x='Category', y='average_delays',\n",
    "             title='Average Shipping Delays by Product Category',\n",
    "             labels={'delays': 'Average Delay', 'product_category': 'Product Category'})\n",
    "fig.update_yaxes(title_text='Average Delay')  # Update y-axis title\n",
    "\n",
    "fig.show()"
   ]
  },
  {
   "cell_type": "markdown",
   "metadata": {},
   "source": [
    "Berdasarkan analisis yang dilakukan terlihat adanya pola keterlambatan yang terjadi berdasarkan kategori produk. Kedua grafik batang di atas menunjukkan adanya pola naik turun yang cukup konsisten pada setiap kategori produk yang dibeli lebih dari dua kali selama penjualan.\n",
    "\n",
    "Kategori produk yang mengalami rata-rata keterlambatan paling lama adalah ***stay, single*** dan ***me*** dengan rata-rata keterlambatan 8 hari, disusul ***move, finish, describe*** dan ***citizen*** dengan rata-rata keterlambatan 7 hari, ***quality*** dengan rata-rata keterlambatan 6 hari, juga ***dinner*** dan ***every*** dengan keterlambatan rata-rata 5 hari."
   ]
  }
 ],
 "metadata": {
  "kernelspec": {
   "display_name": "Python 3",
   "language": "python",
   "name": "python3"
  },
  "language_info": {
   "codemirror_mode": {
    "name": "ipython",
    "version": 3
   },
   "file_extension": ".py",
   "mimetype": "text/x-python",
   "name": "python",
   "nbconvert_exporter": "python",
   "pygments_lexer": "ipython3",
   "version": "3.12.4"
  }
 },
 "nbformat": 4,
 "nbformat_minor": 2
}
